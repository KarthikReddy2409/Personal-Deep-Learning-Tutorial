{
 "cells": [
  {
   "cell_type": "markdown",
   "metadata": {},
   "source": [
    "# STEP 1 : Specify the architecture"
   ]
  },
  {
   "cell_type": "code",
   "execution_count": 29,
   "metadata": {},
   "outputs": [
    {
     "name": "stdout",
     "output_type": "stream",
     "text": [
      "14\n"
     ]
    }
   ],
   "source": [
    "# Import the necessary libraries and read the data\n",
    "import numpy as np\n",
    "import pandas as pd\n",
    "from keras.layers import Dense\n",
    "from keras.models import Sequential\n",
    "predictors = pd.read_csv('Churn_Modelling.csv', delimiter = ',')\n",
    "n_cols = predictors.shape[1]\n",
    "target = 1\n",
    "print(n_cols)"
   ]
  },
  {
   "cell_type": "markdown",
   "metadata": {},
   "source": [
    "Now we have read the data to find the number of nodes in the input layer and the value of the number of nodes is stored in n_cols variable."
   ]
  },
  {
   "cell_type": "markdown",
   "metadata": {},
   "source": [
    "* The first line of model specification is Sequential.\n",
    "\n",
    "\n",
    "* There are two ways to build a model and we will choose sequential.\n",
    "\n",
    "\n",
    "* Sequential model requires each layer has weights and connections coming directly after them."
   ]
  },
  {
   "cell_type": "code",
   "execution_count": 17,
   "metadata": {},
   "outputs": [],
   "source": [
    "model = Sequential()"
   ]
  },
  {
   "cell_type": "markdown",
   "metadata": {},
   "source": [
    "* We start adding the layers using add method of the model.\n",
    "\n",
    "\n",
    "* The type of standard layer used is the Dense layer.\n",
    "\n",
    "\n",
    "* It is called dense because all the nodes in the previous layer are connected to all the nodes in the present layer.\n",
    "\n",
    "\n",
    "* We specify the number of nodes as the first positional argument and then the activation function.\n",
    "\n",
    "\n",
    "* And in the first layer we need to specify input_shapes that say that the input will have n_cols columns."
   ]
  },
  {
   "cell_type": "markdown",
   "metadata": {},
   "source": [
    "ter the ',' meaning it can have any number of rows\n",
    "model.add(Dense(100, activation = 'relu', input_shape = (n_cols, )))"
   ]
  },
  {
   "cell_type": "code",
   "execution_count": 21,
   "metadata": {},
   "outputs": [],
   "source": [
    "# Add another layer\n",
    "model.add(Dense(100, activation = 'relu'))"
   ]
  },
  {
   "cell_type": "markdown",
   "metadata": {},
   "source": [
    "* You will notice that the last layer has 1 node, that's the output layer.\n",
    "\n",
    "\n",
    "* This model has two hidden layers and an output layer."
   ]
  },
  {
   "cell_type": "code",
   "execution_count": 22,
   "metadata": {},
   "outputs": [],
   "source": [
    "model.add(Dense(1))"
   ]
  },
  {
   "cell_type": "markdown",
   "metadata": {},
   "source": [
    "# STEP 2: Compiling and fitting"
   ]
  },
  {
   "cell_type": "markdown",
   "metadata": {},
   "source": [
    "* After you have specified a model, the next step is to compile it, which sets up the network for optimisation, for instance creating an internal function for back propagation efficiently.\n",
    "\n",
    "* The compile method has two different arguments for you to choose:\n",
    "    The first is what optimiser to use, which controls the learning rate.\n",
    "    \n",
    "    In practice a right choice of learning rate can made a big difference for how quickly our model finds good weights and how good a set of weights it can find.\n",
    "    \n",
    "    There are few algorithms that automatically tune the learning rate.\n",
    "    \n",
    "    A pragmatic approach wouldbe to choose a versatile algorithm and use for most of the models.\n",
    "    \n",
    "    ADAM OPTIMISER is an excellent choice. ADAM adjusts the learning rate as it does gradient descent, to ensure resonable values throughout the weightoptimisation process.\n",
    "\n",
    "* The second thing you specify is the loss function:\n",
    "    MeanSquaredError is a common choice when it comes to regression problems"
   ]
  },
  {
   "cell_type": "code",
   "execution_count": null,
   "metadata": {},
   "outputs": [],
   "source": [
    "model.compile(optimizer = 'adam', loss = 'mean_squared_error')"
   ]
  },
  {
   "cell_type": "markdown",
   "metadata": {},
   "source": [
    "* After compiling the model, we can fit it, i.e applying back propagation and gradient descent with our data do update the weights.\n",
    "\n",
    "\n",
    "* You can improve your optimization if you scale all the data.\n",
    "\n",
    "\n",
    "* One common approach is to subtract a feature by that features mean and divide it by its standard deviation."
   ]
  },
  {
   "cell_type": "code",
   "execution_count": null,
   "metadata": {},
   "outputs": [],
   "source": [
    "model.fit(predictors, target)"
   ]
  }
 ],
 "metadata": {
  "kernelspec": {
   "display_name": "Python 3",
   "language": "python",
   "name": "python3"
  },
  "language_info": {
   "codemirror_mode": {
    "name": "ipython",
    "version": 3
   },
   "file_extension": ".py",
   "mimetype": "text/x-python",
   "name": "python",
   "nbconvert_exporter": "python",
   "pygments_lexer": "ipython3",
   "version": "3.6.5"
  }
 },
 "nbformat": 4,
 "nbformat_minor": 2
}
