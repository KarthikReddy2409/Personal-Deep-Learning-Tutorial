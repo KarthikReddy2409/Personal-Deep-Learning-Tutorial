{
 "cells": [
  {
   "cell_type": "markdown",
   "metadata": {},
   "source": [
    "# Deep Learning Forward Propagation"
   ]
  },
  {
   "cell_type": "code",
   "execution_count": 89,
   "metadata": {},
   "outputs": [
    {
     "name": "stdout",
     "output_type": "stream",
     "text": [
      "5\n"
     ]
    }
   ],
   "source": [
    "import numpy as np\n",
    "import pandas as pd\n",
    "input_data = np.array([2,3])\n",
    "\n",
    "# Assign weights\n",
    "weights = {'node_0':np.array([1,1]),\n",
    "           'node_1':np.array([-1,1]),\n",
    "           'output':np.array([2,-1])   \n",
    "}\n",
    "\n",
    "node_0_value = (input_data*weights['node_0']).sum()\n",
    "node_1_value = (input_data*weights['node_1']).sum()\n",
    "print(node_0_value)\n"
   ]
  },
  {
   "cell_type": "code",
   "execution_count": 7,
   "metadata": {},
   "outputs": [
    {
     "name": "stdout",
     "output_type": "stream",
     "text": [
      "[5 1]\n"
     ]
    }
   ],
   "source": [
    "# Print the values stored in the nodes of the hidden layers\n",
    "hidden_layer_values = np.array([node_0_value, node_1_value])\n",
    "print(hidden_layer_values)"
   ]
  },
  {
   "cell_type": "code",
   "execution_count": 9,
   "metadata": {},
   "outputs": [
    {
     "name": "stdout",
     "output_type": "stream",
     "text": [
      "9\n"
     ]
    }
   ],
   "source": [
    "# Final result of the output layer\n",
    "output = (hidden_layer_values*weights['output']).sum()\n",
    "print(output)"
   ]
  },
  {
   "cell_type": "markdown",
   "metadata": {},
   "source": [
    "# Forward propagation with an activation function"
   ]
  },
  {
   "cell_type": "code",
   "execution_count": 18,
   "metadata": {},
   "outputs": [
    {
     "name": "stdout",
     "output_type": "stream",
     "text": [
      "0.9999092042625951\n"
     ]
    }
   ],
   "source": [
    "import numpy as np\n",
    "import pandas as pd\n",
    "input_data = np.array([2,3])\n",
    "\n",
    "# Assign weights\n",
    "weights = {'node_0':np.array([1,1]),\n",
    "           'node_1':np.array([-1,1]),\n",
    "           'output':np.array([2,-1])   \n",
    "}\n",
    "node_0_input = (input_data*weights['node_0']).sum()\n",
    "node_0_output = np.tanh(node_0_input)\n",
    "print(node_0_output)"
   ]
  },
  {
   "cell_type": "code",
   "execution_count": 20,
   "metadata": {},
   "outputs": [
    {
     "name": "stdout",
     "output_type": "stream",
     "text": [
      "0.7615941559557649\n"
     ]
    }
   ],
   "source": [
    "node_1_input = (input_data*weights['node_1']).sum()\n",
    "node_1_output = np.tanh(node_1_input)\n",
    "print(node_1_output)"
   ]
  },
  {
   "cell_type": "code",
   "execution_count": 34,
   "metadata": {},
   "outputs": [
    {
     "name": "stdout",
     "output_type": "stream",
     "text": [
      "1.2382242525694254\n"
     ]
    }
   ],
   "source": [
    "hidden_layer_output = np.array([node_0_output,node_1_output])\n",
    "output = (hidden_layer_output*weights['output']).sum()\n",
    "print(output)"
   ]
  },
  {
   "cell_type": "markdown",
   "metadata": {},
   "source": [
    "# Rectified Linear Activation Function\n",
    "This function takes a single number as an input, returning 0 if the input is negative, and the input if the input is positive."
   ]
  },
  {
   "cell_type": "code",
   "execution_count": 37,
   "metadata": {},
   "outputs": [
    {
     "name": "stdout",
     "output_type": "stream",
     "text": [
      "5\n"
     ]
    }
   ],
   "source": [
    "import numpy as np\n",
    "import pandas as pd\n",
    "\n",
    "def relu(input):\n",
    "    '''Defined relu function here'''\n",
    "    output = max(0, input)\n",
    "    return output\n",
    "\n",
    "# Assign weights\n",
    "weights = { \"node_0\":np.array([1,1]),\n",
    "           \"node_1\":np.array([-1,1]),\n",
    "           \"output\":np.array([2,-1])\n",
    "}\n",
    "# Calculate node 0 value\n",
    "node_0_input = (input_data*weights['node_0']).sum()\n",
    "node_0_value = relu(node_0_input)\n",
    "print(node_0_value)"
   ]
  },
  {
   "cell_type": "code",
   "execution_count": 41,
   "metadata": {},
   "outputs": [
    {
     "name": "stdout",
     "output_type": "stream",
     "text": [
      "1\n"
     ]
    }
   ],
   "source": [
    "# Calculate node 1 value\n",
    "node_1_input = (input_data*weights['node_1']).sum()\n",
    "node_1_output = relu(node_1_input)\n",
    "print(node_1_output)"
   ]
  },
  {
   "cell_type": "code",
   "execution_count": 44,
   "metadata": {},
   "outputs": [
    {
     "name": "stdout",
     "output_type": "stream",
     "text": [
      "9\n"
     ]
    }
   ],
   "source": [
    "# Put the node 0 and node 1 values into an array\n",
    "hidden_layer_outputs = np.array([node_0_value, node_1_value])\n",
    "model_output = (hidden_layer_outputs*weights['output']).sum()\n",
    "print(model_output)"
   ]
  },
  {
   "cell_type": "markdown",
   "metadata": {},
   "source": [
    "# Applying the network to many observations/rows of data (single hidden layer)"
   ]
  },
  {
   "cell_type": "code",
   "execution_count": 81,
   "metadata": {},
   "outputs": [
    {
     "data": {
      "text/plain": [
       "(array([3, 5]), array([ 1, -1]), array([0, 0]), array([8, 4]))"
      ]
     },
     "execution_count": 81,
     "metadata": {},
     "output_type": "execute_result"
    }
   ],
   "source": [
    "# Imput data\n",
    "input_data = (np.array([3,5]),\n",
    "              np.array([1,-1]),\n",
    "              np.array([0,0]),\n",
    "              np.array([8,4]))\n",
    "input_data"
   ]
  },
  {
   "cell_type": "code",
   "execution_count": 54,
   "metadata": {},
   "outputs": [
    {
     "data": {
      "text/plain": [
       "{'node_0': array([2, 4]), 'node_1': array([ 4, -5]), 'output': array([2, 7])}"
      ]
     },
     "execution_count": 54,
     "metadata": {},
     "output_type": "execute_result"
    }
   ],
   "source": [
    "# Weights\n",
    "weights = { 'node_0': np.array([2,4]),\n",
    "            'node_1': np.array([4,-5]),\n",
    "            'output': np.array([2,7])\n",
    "}\n",
    "weights"
   ]
  },
  {
   "cell_type": "code",
   "execution_count": 52,
   "metadata": {},
   "outputs": [],
   "source": [
    "# Defined relu function\n",
    "def relu(input):\n",
    "    '''Defined relu function here'''\n",
    "    output = max(0,input)\n",
    "    return output"
   ]
  },
  {
   "cell_type": "code",
   "execution_count": 61,
   "metadata": {},
   "outputs": [
    {
     "name": "stdout",
     "output_type": "stream",
     "text": [
      "[52, 63, 0, 148]\n"
     ]
    }
   ],
   "source": [
    "# Define predict_with_network\n",
    "def predict_with_network(input_data_row, weights):\n",
    "    \n",
    "    # calculate node 0 value\n",
    "    node_0_input = (input_data_row*weights['node_0']).sum()\n",
    "    node_0_output = relu(node_0_input)\n",
    "    \n",
    "    # calculate node 1 value\n",
    "    node_1_input = (input_data_row*weights['node_1']).sum()\n",
    "    node_1_output = relu(node_1_input)\n",
    "    \n",
    "    # put the node values into an array\n",
    "    hidden_layer_outputs = np.array([node_0_output, node_1_output])\n",
    "    \n",
    "    # calculate the model output\n",
    "    final_output = (hidden_layer_outputs*weights['output']).sum()\n",
    "    model_output = relu(final_output)\n",
    "    \n",
    "    # Return model output\n",
    "    return model_output\n",
    "\n",
    "# Create an empty list to store the predictions\n",
    "results = []\n",
    "for input_data_row in input_data:\n",
    "    results.append(predict_with_network(input_data_row, weights))\n",
    "\n",
    "print(results)\n"
   ]
  }
 ],
 "metadata": {
  "kernelspec": {
   "display_name": "Python 3",
   "language": "python",
   "name": "python3"
  },
  "language_info": {
   "codemirror_mode": {
    "name": "ipython",
    "version": 3
   },
   "file_extension": ".py",
   "mimetype": "text/x-python",
   "name": "python",
   "nbconvert_exporter": "python",
   "pygments_lexer": "ipython3",
   "version": "3.6.5"
  }
 },
 "nbformat": 4,
 "nbformat_minor": 2
}
