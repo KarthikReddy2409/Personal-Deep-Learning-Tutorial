{
 "cells": [
  {
   "cell_type": "markdown",
   "metadata": {},
   "source": [
    "# Calculating slopes to improve the weights of the model"
   ]
  },
  {
   "cell_type": "code",
   "execution_count": 2,
   "metadata": {},
   "outputs": [
    {
     "name": "stdout",
     "output_type": "stream",
     "text": [
      "[14 28 42]\n"
     ]
    }
   ],
   "source": [
    "# import numpy\n",
    "import numpy as np\n",
    "\n",
    "# Enter input_data,weights,target\n",
    "input_data = np.array([1,2,3])\n",
    "weights = np.array([0,2,1])\n",
    "target = 0\n",
    "\n",
    "# Calculate the predictions\n",
    "predictions = (input_data*weights).sum()\n",
    "\n",
    "# Calculate the error\n",
    "error = predictions - target\n",
    "\n",
    "# calculate the slope\n",
    "slope = 2 * input_data * error\n",
    "\n",
    "# Print slope\n",
    "print(slope)"
   ]
  },
  {
   "cell_type": "markdown",
   "metadata": {},
   "source": [
    "You can use this slope to improve the weights of the model. Now it's time to use those slopes to improve your model. If you add the slopes to your weights, you will move in the right direction. However, it's possible to move too far in that direction. So you will want to take a small step in that direction first, using a lower learning rate, and verify that the model is improving."
   ]
  },
  {
   "cell_type": "code",
   "execution_count": 4,
   "metadata": {},
   "outputs": [
    {
     "name": "stdout",
     "output_type": "stream",
     "text": [
      "7\n"
     ]
    }
   ],
   "source": [
    "print(error)"
   ]
  },
  {
   "cell_type": "code",
   "execution_count": 8,
   "metadata": {},
   "outputs": [
    {
     "name": "stdout",
     "output_type": "stream",
     "text": [
      "7\n",
      "5.04\n"
     ]
    }
   ],
   "source": [
    "# Set the learning rate\n",
    "learning_rate = 0.01\n",
    "\n",
    "# Update the weights\n",
    "updated_weights = weights - slope * learning_rate\n",
    "\n",
    "# Updated predictions\n",
    "updated_predictions = (input_data*updated_weights).sum()\n",
    "\n",
    "# Calculate the updated error\n",
    "updated_error = updated_predictions - target\n",
    "\n",
    "print(error)\n",
    "print(updated_error)\n"
   ]
  },
  {
   "cell_type": "markdown",
   "metadata": {},
   "source": [
    "Updating the weights did decrease the error."
   ]
  },
  {
   "cell_type": "code",
   "execution_count": null,
   "metadata": {},
   "outputs": [],
   "source": [
    "# Making multiple updates to weights\n",
    "def get_slope(input_data, target, weights):\n",
    "    predictions = (input_data * weights).sum()\n",
    "    error = predictions - target\n",
    "    slope = 2 * input_data * error\n",
    "    return slope"
   ]
  }
 ],
 "metadata": {
  "kernelspec": {
   "display_name": "Python 3",
   "language": "python",
   "name": "python3"
  },
  "language_info": {
   "codemirror_mode": {
    "name": "ipython",
    "version": 3
   },
   "file_extension": ".py",
   "mimetype": "text/x-python",
   "name": "python",
   "nbconvert_exporter": "python",
   "pygments_lexer": "ipython3",
   "version": "3.6.5"
  }
 },
 "nbformat": 4,
 "nbformat_minor": 2
}
