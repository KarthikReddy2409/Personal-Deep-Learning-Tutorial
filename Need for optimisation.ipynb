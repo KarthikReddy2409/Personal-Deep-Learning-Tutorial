{
 "cells": [
  {
   "cell_type": "markdown",
   "metadata": {},
   "source": [
    "# Example for different weights will have different accuracies on a single prediction."
   ]
  },
  {
   "cell_type": "code",
   "execution_count": 7,
   "metadata": {},
   "outputs": [
    {
     "name": "stdout",
     "output_type": "stream",
     "text": [
      "9\n",
      "3\n"
     ]
    }
   ],
   "source": [
    "import numpy as np\n",
    "\n",
    "input_data = np.array([0,3])\n",
    "\n",
    "weights_0 = { 'node_0': [2,1],\n",
    "             'node_1':[1,2],\n",
    "             'node_2':[1,1]\n",
    "}\n",
    "# Defined relu function\n",
    "def relu(input):\n",
    "    '''Defined relu function here'''\n",
    "    output = max(0,input)\n",
    "    return output\n",
    "\n",
    "# The actual target value\n",
    "target_value = 3\n",
    "\n",
    "def prediction(input_data, weights):\n",
    "    # calculate node 0 value\n",
    "    node_0_input = (input_data*weights['node_0']).sum()\n",
    "    node_0_output = relu(node_0_input)\n",
    "    \n",
    "    # calculate node 1 value\n",
    "    node_1_input = (input_data*weights['node_1']).sum()\n",
    "    node_1_output = relu(node_1_input)\n",
    "    \n",
    "    # put the node values into an array\n",
    "    hidden_layer_outputs = np.array([node_0_output, node_1_output])\n",
    "    \n",
    "    # calculate the model output\n",
    "    final_output = (hidden_layer_outputs*weights['node_2']).sum()\n",
    "    model_output = relu(final_output)\n",
    "    \n",
    "    # Return model output\n",
    "    return model_output\n",
    "\n",
    "model_output_0 = prediction(input_data,weights_0)\n",
    "print(model_output_0)\n",
    "\n",
    "weights_1 = {'node_0': [2,1],\n",
    "             'node_1': [1,2],\n",
    "             'node_2': [1,0]\n",
    "            }\n",
    "model_output_1 = prediction(input_data, weights_1)\n",
    "print(model_output_1)\n"
   ]
  },
  {
   "cell_type": "code",
   "execution_count": 10,
   "metadata": {},
   "outputs": [
    {
     "name": "stdout",
     "output_type": "stream",
     "text": [
      "6\n",
      "0\n"
     ]
    }
   ],
   "source": [
    "error_0 = model_output_0 - target_value\n",
    "error_1 = model_output_1 - target_value\n",
    "\n",
    "print(error_0)\n",
    "print(error_1)"
   ]
  },
  {
   "cell_type": "markdown",
   "metadata": {},
   "source": [
    "# Write code to compare model accuracies for two different sets of weights"
   ]
  },
  {
   "cell_type": "code",
   "execution_count": 23,
   "metadata": {},
   "outputs": [
    {
     "name": "stdout",
     "output_type": "stream",
     "text": [
      "Mean squared error with weights_0: 37.500000\n",
      "Mean squared error with weights_1: 49.890625\n"
     ]
    }
   ],
   "source": [
    "from sklearn.metrics import mean_squared_error\n",
    "model_output_0 = []\n",
    "model_output_1 = []\n",
    "input_data = (np.array([0,3]),\n",
    "              np.array([1,2]),\n",
    "              np.array([-1,-2]),\n",
    "              np.array([4,0]))\n",
    "target_actuals = [1,3,5,7]\n",
    "type(target_actuals)\n",
    "\n",
    "weights_0 = {'node_0': np.array([2, 1]), 'node_1': np.array([1, 2]), 'output': np.array([1, 1])}\n",
    "weights_1 = {'node_0': np.array([2, 1]),'node_1': np.array([1. , 1.5]),'output': np.array([1. , 1.5])}\n",
    "\n",
    "def prediction(input_data, weights):\n",
    "    # calculate node 0 value\n",
    "    node_0_input = (input_data*weights['node_0']).sum()\n",
    "    node_0_output = relu(node_0_input)\n",
    "    \n",
    "    # calculate node 1 value\n",
    "    node_1_input = (input_data*weights['node_1']).sum()\n",
    "    node_1_output = relu(node_1_input)\n",
    "    \n",
    "    # put the node values into an array\n",
    "    hidden_layer_outputs = np.array([node_0_output, node_1_output])\n",
    "    \n",
    "    # calculate the model output\n",
    "    final_output = (hidden_layer_outputs*weights['output']).sum()\n",
    "    model_output = relu(final_output)\n",
    "    \n",
    "    # Return model output\n",
    "    return model_output\n",
    " \n",
    "for row in input_data:\n",
    "    model_output_0.append(prediction(row, weights_0))\n",
    "    model_output_1.append(prediction(row, weights_1))\n",
    "\n",
    "# Calculate the mean squared error for model_output_0: mse_0\n",
    "mse_0 = mean_squared_error(target_actuals, model_output_0)\n",
    "\n",
    "# Calculate the mean squared error for model_output_1: mse_1\n",
    "mse_1 = mean_squared_error(target_actuals, model_output_1)\n",
    "\n",
    "# Print mse_0 and mse_1\n",
    "print(\"Mean squared error with weights_0: %f\" %mse_0)\n",
    "print(\"Mean squared error with weights_1: %f\" %mse_1)"
   ]
  },
  {
   "cell_type": "code",
   "execution_count": null,
   "metadata": {},
   "outputs": [],
   "source": []
  }
 ],
 "metadata": {
  "kernelspec": {
   "display_name": "Python 3",
   "language": "python",
   "name": "python3"
  },
  "language_info": {
   "codemirror_mode": {
    "name": "ipython",
    "version": 3
   },
   "file_extension": ".py",
   "mimetype": "text/x-python",
   "name": "python",
   "nbconvert_exporter": "python",
   "pygments_lexer": "ipython3",
   "version": "3.6.5"
  }
 },
 "nbformat": 4,
 "nbformat_minor": 2
}
